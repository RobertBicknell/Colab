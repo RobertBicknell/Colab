{
  "nbformat": 4,
  "nbformat_minor": 0,
  "metadata": {
    "colab": {
      "name": "Pearson 2.ipynb",
      "version": "0.3.2",
      "provenance": [],
      "include_colab_link": true
    },
    "kernelspec": {
      "name": "python2",
      "display_name": "Python 2"
    }
  },
  "cells": [
    {
      "cell_type": "markdown",
      "metadata": {
        "id": "view-in-github",
        "colab_type": "text"
      },
      "source": [
        "<a href=\"https://colab.research.google.com/github/RobertBicknell/Colab/blob/master/Pearson_2.ipynb\" target=\"_parent\"><img src=\"https://colab.research.google.com/assets/colab-badge.svg\" alt=\"Open In Colab\"/></a>"
      ]
    },
    {
      "metadata": {
        "id": "TzknaUCaYfIO",
        "colab_type": "code",
        "colab": {
          "base_uri": "https://localhost:8080/",
          "height": 34
        },
        "outputId": "c4695aa0-f3a9-4d70-b8dd-968e6b011256"
      },
      "cell_type": "code",
      "source": [
        "\n",
        "import sys\n",
        "import math\n",
        "\n",
        "data = [\"0 -2\", \"-2.666 0\",\"0 -2.333\", \"-1.75 0\"]\n",
        "data = list(map(lambda s: s.split(), data))\n",
        "\n",
        "#print(data)\n",
        "\n",
        "X = list()\n",
        "Y = list()\n",
        "\n",
        "for i in data:\n",
        "  X.append(float(i[0]))\n",
        "  Y.append(float(i[1]))\n",
        "\n",
        "#data = sys.stdin.readlines()\n",
        "#n = float(data[0])\n",
        "#X = list(map(float,data[1].split()))\n",
        "#Y = list(map(float,data[2].split()))\n",
        "\n",
        "def mean(x):\n",
        "    return sum(x) / len(x)\n",
        "\n",
        "def std(x):\n",
        "    m = mean(x)\n",
        "    return math.sqrt(sum([(m-i)**2 for i in x])/(len(x)))\n",
        "\n",
        "muX = mean(X)\n",
        "muY = mean(Y)\n",
        "sX = std(X)\n",
        "sY = std(Y)\n",
        "\n",
        "product = [(xy[0] - muX)*(xy[1] - muY) for xy in zip(X,Y)]\n",
        "covXY = sum(product)/len(X)\n",
        "pearson = covXY / (sX*sY)\n",
        "  \n",
        "print(str(pearson))\n",
        "\n",
        "\n"
      ],
      "execution_count": 6,
      "outputs": [
        {
          "output_type": "stream",
          "text": [
            "-0.953947778872\n"
          ],
          "name": "stdout"
        }
      ]
    }
  ]
}